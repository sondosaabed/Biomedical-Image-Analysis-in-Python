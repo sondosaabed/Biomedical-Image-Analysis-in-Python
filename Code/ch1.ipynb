{
 "cells": [
  {
   "cell_type": "markdown",
   "metadata": {},
   "source": [
    "Load images\n",
    "\n",
    "In this chapter, we'll work with sections of a computed tomography (CT) scan from The Cancer Imaging Archive. CT uses a rotating X-ray tube to create a 3D image of the target area.\n",
    "\n",
    "The actual content of the image depends on the instrument used: photographs measure visible light, x-ray and CT measure radiation absorbance, and MRI scanners measure magnetic fields.\n",
    "\n",
    "To warm up, use the imageio package to load a single DICOM image from the scan volume and check out a few of its attributes."
   ]
  },
  {
   "cell_type": "code",
   "execution_count": null,
   "metadata": {},
   "outputs": [],
   "source": [
    "# Import ImageIO\n",
    "import imageio\n",
    "\n",
    "# Load \"chest-220.dcm\"\n",
    "im = imageio.imread(\"chest-220.dcm\")\n",
    "\n",
    "# Print image attributes\n",
    "print('Image type:', type(im))\n",
    "print('Shape of image array:', im.shape)"
   ]
  },
  {
   "cell_type": "markdown",
   "metadata": {},
   "source": [
    "Metadata\n",
    "\n",
    "ImageIO reads in data as Image objects. These are standard NumPy arrays with a dictionary of metadata.\n",
    "\n",
    "Metadata can be quite rich in medical images and can include:\n",
    "\n",
    "    Patient demographics: name, age, sex, clinical information\n",
    "    Acquisition information: image shape, sampling rates, data type, modality (such as X-Ray, CT or MRI)\n",
    "\n",
    "Start this exercise by reading in the chest image and listing the available fields in the meta dictionary.\n",
    "\n",
    "After reading in the image, use im.meta to select the true statement from the list below."
   ]
  },
  {
   "cell_type": "code",
   "execution_count": null,
   "metadata": {},
   "outputs": [],
   "source": [
    "# Import ImageIO and load image\n",
    "import imageio\n",
    "im = imageio.imread(\"chest-220.dcm\")\n",
    "\n",
    "# Print the available metadata fields\n",
    "print(im.meta.keys())"
   ]
  },
  {
   "cell_type": "markdown",
   "metadata": {},
   "source": [
    "Plot images\n",
    "\n",
    "Perhaps the most critical principle of image analysis is: look at your images!\n",
    "\n",
    "Matplotlib's imshow() function gives you a simple way to do this. Knowing a few simple arguments will help:\n",
    "\n",
    "    cmap controls the color mappings for each value. The \"gray\" colormap is common, but many others are available.\n",
    "    vmin and vmax control the color contrast between values. Changing these can reduce the influence of extreme values.\n",
    "    plt.axis('off') removes axis and tick labels from the image.\n",
    "\n",
    "For this exercise, plot the CT scan and investigate the effect of a few different parameters."
   ]
  },
  {
   "cell_type": "code",
   "execution_count": null,
   "metadata": {},
   "outputs": [],
   "source": [
    "# Import ImageIO and PyPlot \n",
    "import imageio\n",
    "import matplotlib.pyplot as plt\n",
    "\n",
    "# Read in \"chest-220.dcm\"\n",
    "im = imageio.imread(\"chest-220.dcm\")\n",
    "# Draw the image in grayscale\n",
    "plt.imshow(im, cmap='gray')\n",
    "\n",
    "# Draw the image with greater contrast\n",
    "plt.imshow(im, cmap='gray',vmin=-200,vmax=200)\n",
    "\n",
    "# Remove axis ticks and labels\n",
    "plt.axis('off')\n",
    "\n",
    "# Render the image\n",
    "plt.show()"
   ]
  },
  {
   "cell_type": "markdown",
   "metadata": {},
   "source": [
    "Stack images\n",
    "\n",
    "Image \"stacks\" are a useful metaphor for understanding multi-dimensional data. Each higher dimension is a stack of lower dimensional arrays.\n",
    "\n",
    "In this exercise, we will use NumPy's stack() function to combine several 2D arrays into a 3D volume. By convention, volumetric data should be stacked along the first dimension: vol[plane, row, col].\n",
    "\n",
    "Note: performing any operations on an ImageIO Image object will convert it to a numpy.ndarray, stripping its metadata."
   ]
  },
  {
   "cell_type": "code",
   "execution_count": null,
   "metadata": {},
   "outputs": [],
   "source": [
    "# Import ImageIO and NumPy\n",
    "import imageio\n",
    "import numpy as np\n",
    "\n",
    "# Read in each 2D image\n",
    "im1 = imageio.imread('chest-220.dcm')\n",
    "im2 = imageio.imread('chest-221.dcm')\n",
    "im3 = imageio.imread('chest-222.dcm')\n",
    "\n",
    "# Stack images into a volume\n",
    "vol = np.stack([im1,im2,im3],axis=0)\n",
    "print('Volume dimensions:', vol.shape)"
   ]
  },
  {
   "cell_type": "markdown",
   "metadata": {},
   "source": [
    "Load volumes\n",
    "\n",
    "ImageIO's volread() function can load multi-dimensional datasets and create 3D volumes from a folder of images. It can also aggregate metadata across these multiple images.\n",
    "\n",
    "For this exercise, read in an entire volume of brain data from the \"tcia-chest-ct\" folder, which contains 25 DICOM images."
   ]
  },
  {
   "cell_type": "code",
   "execution_count": null,
   "metadata": {},
   "outputs": [],
   "source": [
    "# Import ImageIO\n",
    "import imageio\n",
    "\n",
    "# Load the \"tcia-chest-ct\" directory\n",
    "vol = imageio.volread(\"tcia-chest-ct\")\n",
    "\n",
    "# Print image attributes\n",
    "print('Available metadata:', vol.meta.keys())\n",
    "print('Shape of image array:', vol.shape)"
   ]
  },
  {
   "cell_type": "markdown",
   "metadata": {},
   "source": [
    "Field of view\n",
    "\n",
    "The amount of physical space covered by an image is its field of view, which is calculated from two properties:\n",
    "\n",
    "    Array shape, the number of data elements on each axis. Can be accessed with the shape attribute.\n",
    "    Sampling resolution, the amount of physical space covered by each pixel. Sometimes available in metadata (e.g., meta['sampling']).\n",
    "\n",
    "For this exercise, multiply the array shape and sampling resolution along each axis to calculate the field of view of vol. All values are in millimeters."
   ]
  },
  {
   "cell_type": "markdown",
   "metadata": {},
   "source": [
    "Generate subplots\n",
    "\n",
    "You can draw multiple images in one figure to explore data quickly. Use plt.subplots() to generate an array of subplots.\n",
    "\n",
    "fig, axes = plt.subplots(nrows=2, ncols=2)\n",
    "\n",
    "To draw an image on a subplot, call the plotting method directly from the subplot object rather than through PyPlot: axes[0,0].imshow(im) rather than plt.imshow(im).\n",
    "\n",
    "For this exercise, draw im1 and im2 on separate subplots within the same figure."
   ]
  },
  {
   "cell_type": "code",
   "execution_count": null,
   "metadata": {},
   "outputs": [],
   "source": [
    "# Import PyPlot\n",
    "import matplotlib.pyplot as plt\n",
    "\n",
    "# Initialize figure and axes grid\n",
    "fig, axes = plt.subplots(nrows=2, ncols=1)\n",
    "\n",
    "# Draw an image on each subplot\n",
    "axes[0].imshow(im1, cmap='gray')\n",
    "axes[1].imshow(im2, cmap='gray')\n",
    "\n",
    "# Remove ticks/labels and render\n",
    "axes[0].axis('off')\n",
    "axes[1].axis('off')\n",
    "\n",
    "plt.show()"
   ]
  },
  {
   "cell_type": "markdown",
   "metadata": {},
   "source": [
    "Slice 3D images\n",
    "\n",
    "The simplest way to plot 3D and 4D images by slicing them into many 2D frames. Plotting many slices sequentially can create a \"fly-through\" effect that helps you understand the image as a whole.\n",
    "\n",
    "To select a 2D frame, pick a frame for the first axis and select all data from the remaining two: vol[0, :, :]\n",
    "\n",
    "For this exercise, use for loop to plot every 40th slice of vol on a separate subplot. matplotlib.pyplot (as plt) has been imported for you."
   ]
  },
  {
   "cell_type": "code",
   "execution_count": null,
   "metadata": {},
   "outputs": [],
   "source": [
    "# Plot the images on a subplots array \n",
    "fig, axes = plt.subplots(nrows=1, ncols=4)\n",
    "\n",
    "# Loop through subplots and draw image\n",
    "for ii in range(4):\n",
    "    im = vol[ii*40,:,:]\n",
    "    axes[ii].imshow(im, cmap='gray')\n",
    "    axes[ii].axis('off')\n",
    "    \n",
    "# Render the figure\n",
    "plt.show()"
   ]
  },
  {
   "cell_type": "markdown",
   "metadata": {},
   "source": [
    "Plot other views\n",
    "\n",
    "Any two dimensions of an array can form an image, and slicing along different axes can provide a useful perspective. However, unequal sampling rates can create distorted images.\n",
    "\n",
    "Changing the aspect ratio can address this by increasing the width of one of the dimensions.\n",
    "\n",
    "For this exercise, plot images that slice along the second and third dimensions of vol. Explicitly set the aspect ratio to generate undistorted images."
   ]
  },
  {
   "cell_type": "code",
   "execution_count": null,
   "metadata": {},
   "outputs": [],
   "source": [
    "# Select frame from \"vol\"\n",
    "im1 = vol[:, 256, :]\n",
    "im2 = vol[:,:,256]\n",
    "\n",
    "# Compute aspect ratios\n",
    "d0, d1, d2 = vol.meta['sampling']\n",
    "asp1 = d0 / d2\n",
    "asp2 = d0/d1\n",
    "\n",
    "# Plot the images on a subplots array \n",
    "fig, axes = plt.subplots(nrows=2, ncols=1)\n",
    "axes[0].imshow(im1, cmap='gray', aspect=asp1)\n",
    "axes[1].imshow(im2, cmap='gray', aspect=asp2)\n",
    "\n",
    "plt.show()"
   ]
  }
 ],
 "metadata": {
  "language_info": {
   "name": "python"
  }
 },
 "nbformat": 4,
 "nbformat_minor": 2
}
