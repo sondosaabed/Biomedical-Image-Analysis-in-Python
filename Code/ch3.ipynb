{
 "cells": [
  {
   "cell_type": "markdown",
   "metadata": {},
   "source": [
    "Segment the heart\n",
    "\n",
    "In this chapter, we'll work with magnetic resonance (MR) imaging data from the Sunnybrook Cardiac Dataset. The full image is a 3D time series spanning a single heartbeat. These data are used by radiologists to measure the ejection fraction: the proportion of blood ejected from the left ventricle during each stroke.\n",
    "\n",
    "To begin, segment the left ventricle from a single slice of the volume (im). First, you'll filter and mask the image; then you'll label each object with ndi.label().\n",
    "\n",
    "This chapter's exercises have the following imports:\n",
    "\n",
    "import imageio\n",
    "import numpy as np\n",
    "import scipy.ndimage as ndi\n",
    "import matplotlib.pyplot as plt\n"
   ]
  },
  {
   "cell_type": "code",
   "execution_count": null,
   "metadata": {},
   "outputs": [],
   "source": [
    "# Smooth intensity values\n",
    "im_filt = ndi.median_filter(im, size=3)\n",
    "\n",
    "# Select high-intensity pixels\n",
    "mask_start = np.where(im_filt > 60, 1, 0)\n",
    "mask = ndi.binary_closing(mask_start)\n",
    "\n",
    "# Label the objects in \"mask\"\n",
    "labels, nlabels = ndi.label(mask)\n",
    "print('Num. Labels:', nlabels)"
   ]
  },
  {
   "cell_type": "markdown",
   "metadata": {},
   "source": [
    "Select objects\n",
    "\n",
    "Labels are like object \"handles\" - they give you a way to pick up whole sets of pixels at a time. To select a particular object:\n",
    "\n",
    "    Find the label value associated with the object.\n",
    "    Create a mask of matching pixels.\n",
    "\n",
    "For this exercise, create a labeled array from the provided mask. Then, find the label value for the centrally-located left ventricle, and create a mask for it."
   ]
  },
  {
   "cell_type": "code",
   "execution_count": null,
   "metadata": {},
   "outputs": [],
   "source": [
    "# Label the image \"mask\"\n",
    "labels, nlabels = ndi.label(mask)\n",
    "\n",
    "# Select left ventricle pixels\n",
    "lv_val = labels[128, 128]\n",
    "lv_mask = np.where(labels == lv_val, 1, np.nan)\n",
    "\n",
    "# Overlay selected label\n",
    "plt.imshow(lv_mask, cmap='rainbow')\n",
    "plt.show()"
   ]
  },
  {
   "cell_type": "markdown",
   "metadata": {},
   "source": [
    "Extract objects\n",
    "\n",
    "Extracting objects from the original image eliminates unrelated pixels and provides new images that can be analyzed independently.\n",
    "\n",
    "The key is to crop images so that they only include the object of interest. The range of pixel indices that encompass the object is the bounding box.\n",
    "\n",
    "For this exercise, use ndi.find_objects() to create a new image containing only the left ventricle."
   ]
  },
  {
   "cell_type": "code",
   "execution_count": null,
   "metadata": {},
   "outputs": [],
   "source": [
    "# Create left ventricle mask\n",
    "labels, nlabels = ndi.label(mask)\n",
    "\n",
    "lv_val = labels[128, 128]\n",
    "lv_mask = np.where(labels == lv_val, 1, 0)\n"
   ]
  },
  {
   "cell_type": "markdown",
   "metadata": {},
   "source": [
    "Measure variance\n",
    "\n",
    "SciPy measurement functions allow you to tailor measurements to specific sets of pixels:\n",
    "\n",
    "    Specifying labels restricts the mask to non-zero pixels.\n",
    "    Specifying index value(s) returns a measure for each label value.\n",
    "\n",
    "For this exercise, calculate the intensity variance of vol with respect to different pixel sets. We have provided the 3D segmented image as labels: label 1 is the left ventricle and label 2 is a circular sample of tissue.\n",
    "\n",
    "Labeled Volume\n",
    "\n",
    "After printing the variances, select the true statement from the answers below."
   ]
  },
  {
   "cell_type": "code",
   "execution_count": null,
   "metadata": {},
   "outputs": [],
   "source": [
    "# Variance for all pixels\n",
    "var_all = ndi.variance(vol, labels=None, index=None)\n",
    "print('All pixels:', var_all)\n",
    "\n",
    "# Variance for labeled pixels\n",
    "var_labels = ndi.variance(vol, labels=labels, index=None)\n",
    "print('Labeled pixels:', var_labels)\n",
    "\n",
    "# Variance for each object\n",
    "var_objects = ndi.variance(vol, labels=labels,index=[1,2])\n",
    "print('Left ventricle:', var_objects[0])\n",
    "print('Other tissue:', var_objects[1])"
   ]
  },
  {
   "cell_type": "markdown",
   "metadata": {},
   "source": [
    "Separate histograms\n",
    "\n",
    "A poor tissue segmentation includes multiple tissue types, leading to a wide distribution of intensity values and more variance.\n",
    "\n",
    "On the other hand, a perfectly segmented left ventricle would contain only blood-related pixels, so the histogram of the segmented values should be roughly bell-shaped.\n",
    "\n",
    "For this exercise, compare the intensity distributions within vol for the listed sets of pixels. Use ndi.histogram, which also accepts labels and index arguments."
   ]
  },
  {
   "cell_type": "code",
   "execution_count": null,
   "metadata": {},
   "outputs": [],
   "source": [
    "# Create histograms for selected pixels\n",
    "hist1 = ndi.histogram(vol, min=0, max=255, bins=256)\n",
    "hist2 = ndi.histogram(vol, 0, 255, 256, labels=labels)\n",
    "hist3 = ndi.histogram(vol, 0, 255, 256, labels=labels, index=1)\n",
    "\n",
    "# Plot the histogram density\n",
    "plt.plot(hist1 / hist1.sum(), label='All pixels')\n",
    "plt.plot(hist2 / hist2.sum(), label='All labeled pixels')\n",
    "plt.plot(hist3/ hist3.sum(), label='Left ventricle')\n",
    "format_and_render_plot()"
   ]
  },
  {
   "cell_type": "markdown",
   "metadata": {},
   "source": [
    "Calculate volume\n",
    "\n",
    "Quantifying tissue morphology, or shape is one primary objective of biomedical imaging. The size, shape, and uniformity of a tissue can reveal essential health insights.\n",
    "\n",
    "For this exercise, measure the volume of the left ventricle in one 3D image (vol).\n",
    "\n",
    "First, count the number of voxels in the left ventricle (label value of 1). Then, multiply it by the size of each voxel in mm\n",
    ". (Check vol.meta for the sampling rate.)"
   ]
  },
  {
   "cell_type": "markdown",
   "metadata": {},
   "source": [
    "Calculate distance\n",
    "\n",
    "A distance transformation calculates the distance from each pixel to a given point, usually the nearest background pixel. This allows you to determine which points in the object are more interior and which are closer to edges.\n",
    "\n",
    "For this exercise, use the Euclidian distance transform on the left ventricle object in labels."
   ]
  },
  {
   "cell_type": "code",
   "execution_count": null,
   "metadata": {},
   "outputs": [],
   "source": [
    "# Calculate left ventricle distances\n",
    "lv = np.where(____, 1, 0)\n",
    "dists = ____\n",
    "\n",
    "# Report on distances\n",
    "print('Max distance (mm):', ____)\n",
    "print('Max location:', ____)\n",
    "\n",
    "# Plot overlay of distances\n",
    "overlay = np.where(dists[5] > 0, dists[5], np.nan) \n",
    "plt.imshow(overlay, cmap='hot')\n",
    "format_and_render_plot()"
   ]
  },
  {
   "cell_type": "markdown",
   "metadata": {},
   "source": [
    "Pinpoint center of mass\n",
    "\n",
    "The distance transformation reveals the most embedded portions of an object. On the other hand, ndi.center_of_mass() returns the coordinates for the center of an object.\n",
    "\n",
    "The \"mass\" corresponds to intensity values, with higher values pulling the center closer to it.\n",
    "\n",
    "For this exercise, calculate the center of mass for the two labeled areas. Then, plot them on top of the image."
   ]
  },
  {
   "cell_type": "code",
   "execution_count": null,
   "metadata": {},
   "outputs": [],
   "source": [
    "# Extract centers of mass for objects 1 and 2\n",
    "coms = ____\n",
    "print('Label 1 center:', ____)\n",
    "print('Label 2 center:', ____)\n",
    "\n",
    "# Add marks to plot\n",
    "for c0, c1, c2 in coms:\n",
    "    plt.scatter(____, ____, s=100, marker='o')\n",
    "plt.show()"
   ]
  },
  {
   "cell_type": "markdown",
   "metadata": {},
   "source": [
    "Summarize the time series\n",
    "\n",
    "The ejection fraction is the proportion of blood squeezed out of the left ventricle each heartbeat. To calculate it, radiologists have to identify the maximum volume (systolic volume) and the minimum volume (diastolic volume) of the ventricle.\n",
    "\n",
    "Slice 4 of Cardiac Timeseries\n",
    "\n",
    "For this exercise, create a time series of volume calculations. There are 20 time points in both vol_ts and labels. The data is ordered by (time, plane, row, col)."
   ]
  },
  {
   "cell_type": "code",
   "execution_count": null,
   "metadata": {},
   "outputs": [],
   "source": [
    "# Create an empty time series\n",
    "ts = ____\n",
    "\n",
    "# Calculate volume at each voxel\n",
    "d0, d1, d2, d3 = ____\n",
    "dvoxel = ____\n",
    "\n",
    "# Loop over the labeled arrays\n",
    "for t in range(20):\n",
    "    nvoxels = ____\n",
    "    ts[t] = ____\n",
    "\n",
    "# Plot the data\n",
    "____\n",
    "format_and_render_plot()"
   ]
  },
  {
   "cell_type": "markdown",
   "metadata": {},
   "source": [
    "Measure ejection fraction\n",
    "\n",
    "The ejection fraction is defined as:\n",
    "\n",
    "…where\n",
    "\n",
    "is left ventricle volume for one 3D timepoint.\n",
    "\n",
    "To close our investigation, plot slices from the maximum and minimum volumes by analyzing the volume time series (ts). Then, calculate the ejection fraction.\n",
    "\n",
    "After calculating the ejection fraction, review the chart below. Should this patient be concerned?"
   ]
  },
  {
   "cell_type": "code",
   "execution_count": null,
   "metadata": {},
   "outputs": [],
   "source": [
    "# Get index of max and min volumes\n",
    "tmax = np.argmax(ts)\n",
    "tmin = np.argmin(ts)\n",
    "\n",
    "# Plot the largest and smallest volumes\n",
    "fig, axes = plt.subplots(2,1)\n",
    "axes[0].imshow(vol_ts[tmax, 4], vmax=160)\n",
    "axes[1].imshow(vol_ts[tmin, 4], vmax=160)\n",
    "format_and_render_plots()\n",
    "\n",
    "# Calculate ejection fraction\n",
    "ej_vol = ts.max() - ts.min()\n",
    "ej_frac = ej_vol / ts.max()\n",
    "print('Est. ejection volume (mm^3):', ej_vol)\n",
    "print('Est. ejection fraction:', ej_frac)"
   ]
  }
 ],
 "metadata": {
  "language_info": {
   "name": "python"
  }
 },
 "nbformat": 4,
 "nbformat_minor": 2
}
